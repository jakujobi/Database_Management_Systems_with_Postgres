#!meta

{"kernelInfo":{"defaultKernelName":"csharp","items":[{"aliases":[],"name":"csharp"}]}}

#!markdown

# Class 1

#!markdown

- CRUD - Create, Read, Update, Delete
- There aill be 2 exams
- Written assignments -> 100 points
  - Most homeworks will be written formats
  - No late assignments
  - No second try
- Make sure to train an Ai on what you know, and on the textbooks

#!markdown

# **Databases Intro and Postgres Setup**
---

#!markdown

## Databases

- An organized collection of data stored and accessed electronically
- Small ones can be stored on a file system
- Large ones are hosted on computer clusters or cloud storage
- Query languages

  - SQL (Structured Query Language):
    - SQL is the most widely used query language for managing and manipulating relational databases. It allows users to perform tasks such as retrieving data, updating records, and creating and modifying database structures.
  - T-SQL (Transact-SQL):
    - T-SQL is an extension of SQL that is used specifically with Microsoft SQL Server. It includes additional features and capabilities beyond standard SQL.
  - PL/SQL (Procedural Language/Structured Query Language)
    - PL/SQL is Oracle Corporation's procedural extension for SQL. It allows users to create stored procedures, functions, and triggers within the Oracle database.
  - NoSQL Query Languages: NoSQL databases, such as MongoDB and Cassandra, use query languages specific to their database systems. These languages may include JavaScript-like syntax for querying and manipulating data.
  - SPARQL: SPARQL is a query language used for querying data stored in Resource Description Framework (RDF) format, commonly used in semantic web applications and linked data.
- Security
- Distributed computing issues including supporting concurrent access and fault tolerance

#!markdown

## Database Management System

- This is the software that interacts with end users, applications, the database itself to capture and analyse data
- has all the main facilities to administer the database
- The admin for postgrasql is pgadmin 4
- 
- **Database System**: Includes the total of the database, dbms and associated apps
- Database can also be used to refer to the database system or app associated with the database

- DBMS
  - Allows users to performCRUD
- Databases are usually drawn as cylinders
- Everything should go through the DBMS to interact with the database

#!markdown

## Classifications of Databases

SQl means Structured Query langauge

- **Relational**: They model data as rows and columns in a series of tables

  - They use SQL
- **Non-Relational**

  - Known as NoSQL
  - They use different query languages

  Examples of NoSQL databases include:

  - MongoDB: document-oriented database that stores data in flexible, JSON-like documents.
  - Cassandra: distributed database designed to handle large amounts of data across many commodity servers.
  - Redis: in-memory data structure store that can be used as a database, cache, and message broker.
  - Neo4j: graph database that stores data in nodes and relationships, allowing for efficient traversal and analysis of complex relationships.
  - CouchDB: A database that uses a document-oriented model and supports replication and offline access.

#!markdown

## Architecture

- Hide low level stuff from users

### Data Abstraction

- Physical level
  - Describes how the data are actualy stored
- Logical Level
  - Describes the data stored and thier relationships
  - Describes entire database in terms of a number of relatively simple structures
  - Independent from the physical level
    - Changes to physical level should be possible but should not affect the logical level
  - View level
    - Describes what the user can see

#!markdown

## Data Models

- **Relational**
  - Uses collection of tables to represent both the data

## Relational Data Model

- Uses a collection of tables to represent the relationships.
- In the context of databases, the relational data model is a way of organizing and representing data using tables. Each table in the model is called a relation, and it consists of rows and columns.

**Tables (Relations):** Tables are used to represent entities or concepts in the real world. For example, if we have a database for a school, we might have tables for students, courses, and teachers. Each table contains related information about a specific entity.

- Tables are known as relations
- Each table has multiple columns
- Relational data model means there are connections between the tables

**Columns:** Each table is made up of multiple columns, also known as attributes or fields. Columns define the type of data that can be stored in them. For example, a student table might have columns for student ID, name, age, and grade.

- Each column has a name

**Rows:** Each row in a table represents a single instance or record of the entity being represented. For example, in the student table, each row would represent a specific student and contain their corresponding data

- Each row represents one piece of information
- Each row has a primary key

**Primary key** is a unique identifier for each row

- An example of a primary key is a student ID number or social security number

**Foreign key** is a column that references the primary key of another table

- For example, a student table might have a foreign key that references the primary key of a course table. This would allow us to link each student to the courses they are enrolled in.
- Or department table

#!markdown

## Database Language

Data-definition language (DDL) is used to define the database structure or schema.

- To specify the database schema like data types, constraints and the relationship between the tables.
- DDL statements create, modify, and remove database objects such as tables, indexes, and users.
- Common DDL statements include:
  - CREATE: Creates a new database object
  - ALTER: Modifies an existing database object
  - DROP: Deletes an entire database object
  - TRUNCATE: Deletes all records from a table, leaving the table structure intact

Data manipulation language (DML) is used to retrieve and modify data in a database.

- DML statements are used to add, update, and delete records from tables.
- TO express database queries and updates
- Common DML statements include:
  - SELECT: Retrieves records from one or more tables
  - INSERT: Adds one or more new records to a table
  - UPDATE: Modifies one or more records in a table
  - DELETE: Deletes one or more records from a table
  - TRUNCATE: Deletes all records from a table

SQL Language

- DDL and DML
- SQL is a standardized language used to create, retrieve, update, and delete data from a relational database. It is the most widely used database language, and is supported by most relational database management systems (RDBMSs).
- SQL is a declarative language, meaning that it is used to describe what data should be retrieved or modified, but does not specify how to perform the operation.
- The database management system (DBMS) determines the most efficient way to carry out the operation based on factors such as the size and structure of the database and available system resources.
- The commands can be embedded in general-purpose programming languages such as Java and Python, allowing SQL-based database applications to be written in any language that supports the database's API.
- SQL is not used for developing complete software applications; it's used for handling the data part of an application.
- Python, C, and C++ have control structures (like loops, conditional statements, functions, etc.), while SQL does not.

#!markdown

### DDL

- Specify the database schema
- Specify the storage structure and access methods used by the database system
  - Different users have different access rights and permissions
  - read, insert update, delete

#!sql

CREATE TABLE department (dept_name VARCHAR(20),
    building VARCHAR(15),
    budget NUMERIC(12,2),
    PRIMARY KEY (dept_name));

#!markdown

## DML
Enables users to access or manipulate data as organized by the appropriate data model
Types:
- Procedural
  - User specifies what data is needed and how to get it
  - Example: Find the names of all students who have a GPA greater than 3.6
  - Example: Increase the salary of all employees by 10%
- Non-Procedural
  - User specifies what data is needed without specifying how to get it
  - SQL is a non-procedural language and mostly used in relational databases

#!markdown

### Database Users and Administrators

Database User
- The user of the database that can access the database
- Naive users can only access the database
- Normal users can access the database
- Superusers can access the database and modify it

Database Administrator
- Schema definition
- Storage structure and access methods
- Security

#!markdown

### History of Databases
1950s and early 1960
- Data processing using magnetic tapes for storage
  - Tapes provided only sequential access
- Punched cards for input

Late 1960s and 1970s
- Hard disks allowed direct access to data
- Networ and hierarchical data models in widespread use
- Ted Codd defines the relational data model
  - Would win the ACM Turing Award for this work in 1981
- IBM Research begins System R prototype
- UC Berkeley (Michael Stonebraker) begins Ingres prototype
- In 1972, Relational Database Management Systems (RDBMS) was created by IBM
- Oracle releases first commercial relational database)

#!markdown

## Relational Databases

#!markdown

Relational databases consists of a collection of tables
Each table is assigned a unique name. E.g Istructors
Relation: This is a table
Attribute: This is a column of a table
Tuple: This is a row of a table

Relation Instance
- A table at a given instance in time
- Its kind of like a "snapshot" of the table at a specific moment
- Does not contain duplicate tuples

#!markdown

## Attributes
- The domain of an attribute is the range of permitted vaulues
- The domain of all atributes must be atomic. That is they can't be divided into smaller parts
  - For example, a phone number can't be divided into 3 parts
- The null value
  - Represents the absence of a value or if the value is unknown or doesn't exist
  - Its a member of every domain
  - Remember that Null is not the same as 0 or empty string
  - Integer plus Null = NULL

#!markdown

Database Schema
- logical design of the database

Database instance
- snapshot of the data in the database at a particular point in time
- Can also be called State
- Even if the order is different, the state will be the same
  - As long as the data and values are the same, the state will be the same

Relation schema:
- list of attribute and thier corresponding domains
- department (dept_name, building, budget)
  

#!markdown

## Keys
 Tuples in relations must be unique and distinct

Superkey
 - This is a set of one or more attributes that when taken collectively, uniquely identifies a tuple in a relation
 - Superkey is a subset of the primary key
 - May contain extraneous attribute
  
Candidate Key
- This is the minimal set of a superkey
- No proper subset is a superkey
- A proper subset of a set A is a subset of A that is not equal of A

Choose one candidate key to be primary key
- 

#!markdown

Lecture 4
Use  ; at the end of a statement, it improves readability.

#!sql

select student_id
    from student
    where dept_name = 'Comp. Sci.' and tot_cred > 100;

#!markdown

Each clause on a statement should begin on a new line

#!sql

SELECT student_id, first_name, last_name
from student
WHERE ((student_id < 1000) AND year = 2020)
    OR (student_id > 1000 AND year < 1999)
ORDER BY student_id
LIMIT 100;
/*


*/

#!markdown

## Create Database

```sql
CREATE DATABASE database_name;
```
create database identifier
Supply whatever name you want to call your database "identifier"

#!markdown

### Create Table

```sql
CREATE TABLE table_name (
    column1 datatype,
    column2 datatype,
    column3 datatype,
    ...
);
```

#!sql

--make a table for a students in a class
CREATE TABLE student_in_class (
    student_id INTEGER,
    class_id INTEGER,
    PRIMARY KEY (student_id, class_id),
    FOREIGN KEY (student_id) REFERENCES student(student_id),
    FOREIGN KEY (class_id) REFERENCES class(class_id)
);

#!markdown

#### Integrity constraint
- Primary Key
  - They have to be non-null and unique by default
  - Only one primary key can exist in a table
- Foreign Key
  - Can be null, or any value from referenced relation's primary key
  - Multiple foreign keys can exist in a table
- Not Null
  - specify a value that is not allowed to be null

#!markdown

## What is PostgreSQL
PostgreSQL is a powerful, open source object-relational database system.
- It is used for backend database both web and desktop applications.
- PostgreSQL is considered to be the primary open source database choice when migrating from commercial databases such as Oracle or Microsoft SQL Server.
- Supports Python, C, C++, C#, Java, Perl, Ruby, Go, Tcl, Node.js

#### History
- Was invented at the University of California, Berkeley in the computer science department.
- Started as an open-source project in 1986
- Earlier ran on UNIX, but can now be run on Windows, OS X, and FreeBSD

#!markdown

# **Practice**
---

#!sql

-- This will show the student_ids from the student database that are in computer science, and have more than 100 credits
select student_id
    from student
    where dept_name = 'Comp. Sci.' and tot_cred > 100;

#!sql

--Here, the distict hometowns from the student database will be shown
SELECT distinct home_town
    from students
    WHERE home_town is not null

#!markdown

Square brackets around something means that it is optional.
e.g [Optional]

#!markdown

# **Creating and Modifying Tables and Data**
---

#!markdown

## **Keys:**

#!markdown

### Primary Key
This column uniquely identifies each row on the table
Each of them must be unique.
    - like student_id, employee_id, social_security_number, username, etc.
- The primary key can not be Null, and must be unique

#!sql

CREATE TABLE `notes` (
    id int(11) NOT NULL AUTO_INCREMENT,
    title varchar(255) NOT NULL,
    content text NOT NULL,
    PRIMARY KEY (`id`)
)

#!sql

-- Each shirt has a unique primary key which is the SKU number
CREATE TABLE merch_tshirts (
    SKU INTEGER PRIMARY KEY
    XREF INTEGER,
    name VARCHAR(255),
    price NUMERIC(12,2), --price is a number with 12 digits, 2 of which are decimals
    size VARCHAR(4),
    color VARCHAR(10),
);

#!markdown

### Foreign key
This is a coulumn that references the primary key of another table
- Used to maintain referential integrity by creating a link between two tables
- Ensure that the relationship betwwen two tables remains consisitent
- The value in the foreign key column must match the primary key in the referenced table or be NULL
- Allowed to be NULL if the referenced table has a default value for the primary key

#!sql

CREATE TABLE social_media_post (
    post_id INTEGER PRIMARY KEY,
    post_date DATE,
    post_time TIME,
    post_text VARCHAR(255),
    post_likes INTEGER,
    post_shares INTEGER,
    post_comments INTEGER,
    post_views INTEGER,
    post_user_id INTEGER,
    FOREIGN KEY (post_type_id) REFERENCES social_media_post_type(post_type_id),
    FOREIGN KEY (post_user_id) REFERENCES user(id)
);

#!sql

CREATE TABLE orders (
    order_id INTEGER PRIMARY KEY,
    order_date DATE,
    customer_id INTEGER,
    product_id INTEGER,
    FOREIGN KEY (customer_id) REFERENCES customers(customer_id),
    FOREIGN KEY (product_id) REFERENCES products(product_id)
);
/*
In this example, the `orders` table has two foreign keys, `customer_id` and `product_id`, which reference the primary keys in the `customers` and `products` tables respectively.
This allows the `orders` table to relate to both the `customers` and `products` tables.
*/

#!markdown

### Composite Key
Its a primary key that is composed of 2 or more columns used together to uniquely identify a record in a table.
- Useful when no single column uniquely identifies records in that table
- Each column of a composite key must be unique, but can contain duplicated values

#!sql

CREATE TABLE members (
    first_name VARCHAR(255) NOT NULL,
    last_name VARCHAR(255),
    email VARCHAR(255) UNIQUE, -- This makes sure that the email is unique
    PRIMARY KEY (first_name, last_name)
);

#!markdown

### Unique Key
- This is a set of one or more columns that uniquely identifies a record in a relational database table.
- It is used to enforce referential integrity and prevent duplicate records from being inserted into a table.
- A table can have more than one unique key.
- No two rows in a table can have the same values for the unique key.

#!sql

CREATE TABLE users (
    user_id INTEGER PRIMARY KEY,
    username VARCHAR(255) UNIQUE, -- Makes sure that the username is unique
    first_name VARCHAR(255) NOT NULL,
    last_name VARCHAR(255) NOT NULL,
    email VARCHAR(255) UNIQUE,  -- Makes sure that the email is unique
    phone VARCHAR(255) UNIQUE, -- Makes sure that the phone numbers are uniques
    password VARCHAR(255) NOT NULL
);

#!markdown

## **Inserting Data**
- Inserting data into a table is done with the `INSERT INTO` statement.
- https://www.postgresqltutorial.com/postgresql-tutorial/postgresql-insert/

#!markdown

## **Creating and Managing Tables**

#!markdown

### CREATE TABLE ();
We create tables using the create table statement.
Then we specify the types and names of the columns.

#!sql

CREATE TABLE students (
    id int(11) NOT NULL AUTO_INCREMENT,
    student_id int(11) NOT NULL,

    firstname varchar(255) NOT NULL,
    lastname varchar(255) NOT NULL,
    email varchar(255) NOT NULL,

    hometown varchar(255) NOT NULL,
    year int(11) NOT NULL,
    tot_cred int(11) NOT NULL,
    dept_name varchar(255) NOT NULL,

    PRIMARY KEY (student_id)
    FOREIGN KEY (dept_name) REFERENCES department(dept_name)
)
/*
This creates a table for students
id | student_id | firstname | lastname | email | hometown | year | tot_cred | dept_name
*/

#!markdown

### Insert Into

#!markdown

### Fetch Data

#!markdown

### Add Column

#!markdown

### Update

#!markdown

### Alter column

#!markdown

### Drop Column

#!markdown

### Delete

#!markdown

### Drop Table

#!markdown

# **Querying Data**
---

#!markdown

## **Data Types**

#!markdown

## **Select**

#!markdown

### SELECT *

This brings data from all the columns from a table

- Considered a bad practice
  - It retrieves more data than needed
  - May lead to performance issues
  - Increaded 

#!sql

-- This will show all columns from the students table
SELECT *
    FROM students

#!sql

-- Will bring the data from the students table,
-- but only the student_id, first_name, and last_name columns
SELECT student_id, first_name, last_name
    FROM students

#!markdown

### SELECT DISTINCT
This returns only distinct values.
So, no duplicate rows will be returned.

#!sql

-- This will return only distinct vhometowns
SELECT distinct home_town
    FROM students

#!markdown

### Column Aliases

#!markdown

### Calculated Fields
You can use arithmetic expressions in calculated fields with SELECT statement.
It does not change the data itself

#!sql

-- Returns the name and the monthly salary of the instructors
SELECT name, salary/12 as monthly_salary
    FROM instructor;

#!markdown

## Sorting

#!markdown

### ORDER BY `column_name` ASC/DESC
Sorts the rows returned in an ascending or descending order
- Use the ORDER BY clause in the SELECT statement to sort the rows in the query set.
- Use the ASC option to sort rows in ascending order and DESC option to sort rows in descending order.
- The ORDER BY clause uses the ASC option by default.
- Use NULLS FIRST and NULLS LAST options to explicitly specify the order of NULL with other non-null values

#!sql

SELECT 
  select_list 
FROM 
  table_name 
ORDER BY 
  sort_expression1 [ASC | DESC], 
  sort_expression2 [ASC | DESC],
  ...;

#!sql

SELECT 
    first_name, last_name, student_ID
FROM students
ORDER BY
    last_name ASC
    first_name DESC --Sorts by last name, then first name
    NULLS FIRST --Null values will be sorted first

#!sql

SELECT 
    first_name, last_name,
    salary/12 AS average_salary
    LENGTH (last_name) last_name_length --This calculates the length of the last name
FROM
    instructors
ORDER BY

#!markdown

### Group By

#!markdown

## **Filtering Data**

#!markdown

### OR

#!markdown

### AND

#!markdown

### Where

#!markdown

### Limit

#!markdown

### LIKE

#!markdown

### ANY

#!markdown

### IN

#!markdown

### Between

#!markdown

### As

#!markdown

### HAVING

#!markdown

### Fetch

#!markdown

### Min and Max

#!markdown

### IS NULL

#!markdown

### Count

#!markdown

### SUM

#!markdown

### AVG

#!markdown

## **Joining Tables**

#!markdown

### Joins

#!markdown

### INNER JOIN

#!markdown

### LEFT JOIN

#!markdown

### RIGHT JOIN

#!markdown

### FULL JOIN

#!markdown

### CROSS JOIN

#!markdown

### UNION

#!markdown

### EXISTS

#!markdown

### ALL

#!markdown

### CASE

#!markdown

# Tips
- Things in quotation marks are case sensitive.
  - e.g 'john' is not the same as 'John'
- write the commands as Capital letters
  - e.g.
    - SELECT
    - FROM
- Write variable and other names as lowercase
- 

#!markdown

## Homework

- sl file
  - Give the query file with all statements
- Docx
  - Include screenshots of the pgadmin
  - We need to use docker to make sure we can reset the database snapshot to the initial one
